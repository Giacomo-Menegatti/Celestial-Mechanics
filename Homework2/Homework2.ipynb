{
 "cells": [
  {
   "cell_type": "markdown",
   "metadata": {},
   "source": [
    "# Celestial Mechanics- Homework 2\n",
    "Giacomo Menegatti\n",
    "\n",
    "Marzo 2024"
   ]
  },
  {
   "cell_type": "code",
   "execution_count": 2,
   "metadata": {},
   "outputs": [],
   "source": [
    "import matplotlib.pyplot as plt\n",
    "import numpy as np\n",
    "from scipy.integrate import solve_ivp\n"
   ]
  },
  {
   "cell_type": "markdown",
   "metadata": {},
   "source": [
    "## Burrau's problem"
   ]
  },
  {
   "cell_type": "code",
   "execution_count": 41,
   "metadata": {},
   "outputs": [
    {
     "name": "stdout",
     "output_type": "stream",
     "text": [
      "[0.]\n"
     ]
    }
   ],
   "source": [
    "G = 1.0 #Gravitational constant\n",
    "m = np.array([3,4,5]) #Masses of the three bodies\n",
    "initial_position = [[1,3], [-2,-1], [1,-1]]\n",
    "initial_position = np.array(initial_position)\n",
    "initial_velocity = np.ones((3,2))\n",
    "\n",
    "\n",
    "def center_of_mass(positions, masses):\n",
    "  # I use Einsten sum to have complete control on how the vectors are multiplied together\n",
    "  # Here the vector is described as [positions[bodies[coordinates]]], so I sum over the bodies and \n",
    "  # keep the list of positions and the coordinates\n",
    "  # The problem is that now it accepts only a list of position and I have to specify when it's not a list\n",
    "  if len(positions.shape)==2:\n",
    "    positions = np.reshape(positions, (1,3,2))\n",
    "  return np.einsum('ijk,j->ik', positions, masses)/np.sum(masses)\n",
    "\n",
    "def angular_momentum(positions, velocities, masses):\n",
    "  #Same problem as before\n",
    "  if len(positions.shape)==2:\n",
    "    positions = np.reshape(positions, (1,3,2))\n",
    "  if len(velocities.shape)==2:\n",
    "    velocities = np.reshape(velocities, (1,3,2))\n",
    "\n",
    "  # cross returns a scalar instead of a vector because the dimension of the system is 2\n",
    "  rxv = np.cross(positions, velocities, axisa=2, axisb=2) \n",
    "  return np.einsum('ij, j->i', rxv, masses)\n",
    "\n",
    "def energy(position, velocities, masses):\n",
    "  #Potential energy\n",
    "  U = np.array([])\n"
   ]
  }
 ],
 "metadata": {
  "kernelspec": {
   "display_name": "Python 3",
   "language": "python",
   "name": "python3"
  },
  "language_info": {
   "codemirror_mode": {
    "name": "ipython",
    "version": 3
   },
   "file_extension": ".py",
   "mimetype": "text/x-python",
   "name": "python",
   "nbconvert_exporter": "python",
   "pygments_lexer": "ipython3",
   "version": "3.10.12"
  }
 },
 "nbformat": 4,
 "nbformat_minor": 2
}
