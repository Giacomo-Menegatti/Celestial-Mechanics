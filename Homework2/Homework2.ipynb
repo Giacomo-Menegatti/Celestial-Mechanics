{
 "cells": [
  {
   "cell_type": "markdown",
   "metadata": {},
   "source": [
    "# Exercise 2 - Celestial Mechanics\n",
    "Giacomo Menegatti (2122852)"
   ]
  },
  {
   "cell_type": "code",
   "execution_count": 9,
   "metadata": {},
   "outputs": [],
   "source": [
    "import numpy as np\n",
    "import matplotlib.pyplot as plt\n",
    "from scipy.integrate import solve_ivp \n",
    "from scipy.interpolate import interp1d\n"
   ]
  },
  {
   "cell_type": "markdown",
   "metadata": {},
   "source": [
    "## Explicit implementation of a Runge-Kutta integrator"
   ]
  },
  {
   "cell_type": "code",
   "execution_count": 10,
   "metadata": {},
   "outputs": [],
   "source": [
    "def RK(f, y0, t0, tf, h):\n",
    "  #Creating two arrays\n",
    "  Y = [y0]\n",
    "  t = [t0]\n",
    "\n",
    "  while t_last < tf:\n",
    "    \n",
    "    t_last = t[-1]\n",
    "    y = Y[-1]\n",
    "\n",
    "    #Runge Kutta coefficients\n",
    "    k1 = h*f(t,y)\n",
    "    k2 = h*f(t + 0.5*h, y + 0.5*k1)\n",
    "    k3 = h*f(t + 0.5*h, y + 0.5*k2)\n",
    "    k4 = h*f(t + h, y + k3)\n",
    "        \n",
    "    y = y + (k1 + 2*k2 + 2*k3 + k4)/6.0\n",
    "    t_last  = t_last + h\n",
    "\n",
    "    Y.append(y)\n",
    "    t.append(t_last)\n",
    "  # I transpose the array to have the same shape as the scipy one\n",
    "  # meaning [[y1(t0),...,y1(tf)],....,[yn(t0),...,yn(tf)]]\n",
    "    \n",
    "  #Dense output\n",
    "  Y = interp1d(t, np.array(Y).T) \n",
    "\n",
    "  return t, Y\n",
    "\n"
   ]
  },
  {
   "cell_type": "markdown",
   "metadata": {},
   "source": [
    "## Adaptive step Runge-Kutta\n",
    "The code is equal to the one before, just now h is a function of t and y instead of a constant"
   ]
  },
  {
   "cell_type": "code",
   "execution_count": 11,
   "metadata": {},
   "outputs": [],
   "source": [
    "def RK_Adaptive(f, y0, t0, tf, h):\n",
    "\n",
    "  #Creating two arrays\n",
    "  Y = [y0]\n",
    "  t = [t0]\n",
    "\n",
    "  while t_last < tf:\n",
    "    \n",
    "    t_last = t[-1]\n",
    "    y = Y[-1]\n",
    "    h = h(t_last, t_last)\n",
    "\n",
    "    #Runge Kutta coefficients\n",
    "    k1 = h*f(t,y)\n",
    "    k2 = h*f(t + 0.5*h, y + 0.5*k1)\n",
    "    k3 = h*f(t + 0.5*h, y + 0.5*k2)\n",
    "    k4 = h*f(t + h, y + k3)\n",
    "        \n",
    "    y = y + (k1 + 2*k2 + 2*k3 + k4)/6.0\n",
    "    t_last  = t_last + h\n",
    "\n",
    "    Y.append(y)\n",
    "    t.append(t_last)\n",
    "  # I transpose the array to have the same shape as the scipy one\n",
    "  # meaning [[y1(t0),...,y1(tf)],....,[yn(t0),...,yn(tf)]]\n",
    "  #Dense output\n",
    "  Y = interp1d(t, np.array(Y).T) \n",
    "\n",
    "  return t, Y\n"
   ]
  },
  {
   "cell_type": "markdown",
   "metadata": {},
   "source": [
    "# Two-body integration"
   ]
  },
  {
   "cell_type": "code",
   "execution_count": 12,
   "metadata": {},
   "outputs": [],
   "source": [
    "# ODE function\n",
    "def two_body_ODE(t,y, GM):\n",
    "  #Dividing y in positions and velocities\n",
    "  r1, r2  = y[0:2], y[2:4]  #The first four variables are positions\n",
    "  v1, v2 = y[4:6], y[6:8]  #The last four are velocities\n",
    "  #Calculating the accelerations\n",
    "  r_12 = r2-r1\n",
    "  r3 = np.linalg.norm(r_12)**3\n",
    "  #With concatenate I concatenate vectors side by side to get the state vector\n",
    "\n",
    "  return np.concatenate((v1, v2, GM/r3*r_12, -GM/r3*r_12), axis=None)\n"
   ]
  },
  {
   "cell_type": "code",
   "execution_count": 13,
   "metadata": {},
   "outputs": [
    {
     "name": "stdout",
     "output_type": "stream",
     "text": [
      "[ 0.e+00  0.e+00  0.e+00  2.e+01  1.e-02  0.e+00 -1.e-02 -0.e+00]\n"
     ]
    }
   ],
   "source": [
    "GM = 1\n",
    "x = np.array([0,0,10,0,  0,0,0,20])#Initial positions and velocities\n",
    "\n",
    "print(two_body_ODE(0,x,GM))\n"
   ]
  },
  {
   "cell_type": "markdown",
   "metadata": {},
   "source": [
    "# Burrau's problem"
   ]
  },
  {
   "cell_type": "code",
   "execution_count": null,
   "metadata": {},
   "outputs": [],
   "source": []
  },
  {
   "cell_type": "code",
   "execution_count": 14,
   "metadata": {},
   "outputs": [],
   "source": [
    "# ODE function\n",
    "def three_body_ODE(t,y, G, M):\n",
    "  #Dividing y in positions and velocities\n",
    "  r1, r2, r3 = y[0:2], y[2:4], y[4:6]  \n",
    "  v1, v2, v3 = y[6:8], y[8:10], y[10:12] \n",
    "  #Calculating the accelerations\n",
    "  r_12 = r2-r1\n",
    "  r_13 = r3-r1\n",
    "  r_23 = r3-r2\n",
    "  \n",
    "  a_12 = G*M[0]*M[1]*r_12/np.linalg.norm(r_12)**3\n",
    "  a_13 = G*M[0]*M[2]*r_13/np.linalg.norm(r_13)**3\n",
    "  a_23 = G*M[1]*M[2]*r_23/np.linalg.norm(r_23)**3\n",
    "  #With concatenate I concatenate vectors side by side to get the state vector\n",
    "\n",
    "  return np.concatenate((v1, v2, v3,  a_12+a_13, -a_12+a_23, -a_13-a_23), axis=None)\n",
    "\n",
    "def h(h0, y, N=1):\n",
    "  r1, r2, r3 = y[0:2], y[2:4], y[4:6]  \n",
    "  #Calculating the accelerations\n",
    "  r_12 = r2-r1\n",
    "  r_13 = r3-r1\n",
    "  r_23 = r3-r2\n",
    "\n",
    "  return h0/(r_12**-2.0+r_13**-2.0+r_23**-2)**N\n",
    "\n"
   ]
  },
  {
   "cell_type": "code",
   "execution_count": 15,
   "metadata": {},
   "outputs": [
    {
     "name": "stdout",
     "output_type": "stream",
     "text": [
      "[ 0.          0.          0.          0.          0.          0.\n",
      " -0.288      -1.3215      2.51022222  0.384      -2.22222222  0.9375    ]\n"
     ]
    }
   ],
   "source": [
    "G = 1\n",
    "M = [3,4,5]\n",
    "#initial positions\n",
    "y = np.array([1,3,-2,-1,1,-1, 0,0,0,0,0,0])\n",
    "\n",
    "\n",
    "print(three_body_ODE(1,y, G, M))\n"
   ]
  }
 ],
 "metadata": {
  "kernelspec": {
   "display_name": "Python 3",
   "language": "python",
   "name": "python3"
  },
  "language_info": {
   "codemirror_mode": {
    "name": "ipython",
    "version": 3
   },
   "file_extension": ".py",
   "mimetype": "text/x-python",
   "name": "python",
   "nbconvert_exporter": "python",
   "pygments_lexer": "ipython3",
   "version": "3.10.12"
  }
 },
 "nbformat": 4,
 "nbformat_minor": 2
}
