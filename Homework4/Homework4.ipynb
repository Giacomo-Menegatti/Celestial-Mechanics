{
 "cells": [
  {
   "cell_type": "markdown",
   "metadata": {},
   "source": [
    "# Homework 4\n",
    "## Giacomo Menegatti 2122852"
   ]
  },
  {
   "cell_type": "code",
   "execution_count": 26,
   "metadata": {},
   "outputs": [],
   "source": [
    "import numpy as np\n",
    "import matplotlib.pyplot as plt\n",
    "import pandas as pd\n"
   ]
  },
  {
   "cell_type": "markdown",
   "metadata": {},
   "source": [
    "## Finding the eccentricity e for the maximum angular deceleration at $f=\\frac{\\pi}{4}$\n",
    " \n",
    "The equations used in this problem are $$r^2\\dot f = h$$ $$r=\\frac{p}{1+e\\cos f} \\implies \\dot r = \\frac{he}{p}\\sin f$$\n",
    "To find the maximum angular deceleration $-\\ddot f$ I derive $\\dot f$ twice (with $h$, $p$ and $e$ constants) obtaining $$\\dot f = \\frac{h}{r^2} = \\frac{h}{p^2}(1+e\\cos f)^2$$\n",
    "$$ \\ddot f= -2\\frac{h^2e}{p^4}(1+e \\cos f)^3\\sin f$$\n",
    "$$ \\frac{d^3f}{dt^3}=-2\\frac{h^2e}{p^4}(1+e\\cos f)^2[-3e\\sin^2 f + (1+e \\cos f)\\cos f]\\dot f $$\n",
    "Imposing $[...] = 0$, I obtain the equation $$e= \\frac{\\cos f}{3-4\\cos^2 f}$$\n",
    "Using $f=\\frac{\\pi}{4}$, I get $e=0.7071$"
   ]
  },
  {
   "cell_type": "markdown",
   "metadata": {},
   "source": [
    "## Laplace to Heliocentric RF transformation\n",
    "### Read the orbital elements from the file"
   ]
  },
  {
   "cell_type": "code",
   "execution_count": 27,
   "metadata": {},
   "outputs": [],
   "source": [
    "# Read the file skipping the comments and the last column (;)\n",
    "df = pd.read_csv('Elementi Orbitali (Meeus - MEE of date).m', delimiter='\\s+', comment='%', header=None, usecols=[0,1,2,3])\n",
    "\n",
    "planet_names = ['Mercury', 'Venus', 'Earth', 'Mars', 'Jupiter', 'Saturn', 'Uranus', 'Neptune']\n",
    "planet = {}\n",
    "for i, name in enumerate(planet_names):\n",
    "  #Save the orbital elements in a dictionary. I pick blocks of 7 rows at every time because the last one is blank\n",
    "  orbital_elements = {}\n",
    "  orbital_elements['L'] = np.array(df.iloc[7*i])\n",
    "  orbital_elements['a'] = np.array(df.iloc[7*i+1])\n",
    "  orbital_elements['e'] = np.array(df.iloc[7*i+2])\n",
    "  orbital_elements['i'] = np.array(df.iloc[7*i+3])\n",
    "  orbital_elements['Omega'] = np.array(df.iloc[7*i+4])\n",
    "  orbital_elements['pi'] = np.array(df.iloc[7*i+5])\n",
    "\n",
    "  #Save the dictionary with the planet name\n",
    "  planet[name]=orbital_elements\n"
   ]
  },
  {
   "cell_type": "markdown",
   "metadata": {},
   "source": [
    "### Get the Julian time at a specific date\n",
    "For a given date Day-Month-Year hour the Julian time is given by \n",
    "$$JD_0 = D – 32075 + 1461 × (Y + 4800 + (M – 14)/12)/4\n",
    "+ 367 × (M – 2 – (M – 14)/12 × 12)/12\n",
    "–3 × ((Y + 4900 + (M – 14) / 12) / 100) /4$$\n",
    "$$JD = JD_0 + F – 0.5$$\n",
    "where $JD_0$ is the Julian date at noon and $JD$ the date at any fraction of day $F$ from the midnight."
   ]
  },
  {
   "cell_type": "code",
   "execution_count": 28,
   "metadata": {},
   "outputs": [],
   "source": [
    "def JD(Y=2000, M=1, D=1, h=0, m=0, s=0, TZ=0):\n",
    "  '''Calculate the Julian Time from the Gregorian date'''\n",
    "  # In python trunc keeps only the integer part. //, round and floor do not work with negative nubers\n",
    "  C = np.trunc((M-14)/12)\n",
    "  JD0 = D-32075 + np.trunc(1461*(Y+4800+C)/4) + np.trunc(367*(M-2-C*12)/12) - np.trunc(3*np.trunc((Y+4900+C)/100)/4)\n",
    "  # Add the hour information and the Time Zone\n",
    "  JD = JD0 - 0.5 + TZ/24 + (h+m/60+s/3600)/24\n",
    "  return JD\n"
   ]
  },
  {
   "cell_type": "markdown",
   "metadata": {},
   "source": [
    "Define T, GMST and $\\epsilon$"
   ]
  },
  {
   "cell_type": "code",
   "execution_count": 29,
   "metadata": {},
   "outputs": [],
   "source": [
    "def T(JD):\n",
    "  '''Return the time in centuries from J2000.0'''\n",
    "  return (JD-2451545.0)/36525\n",
    "\n",
    "def eps(T):\n",
    "  '''Inclination of the Earth axis in RADIANS'''\n",
    "  eps = 23.439291 - 0.0130042*T - 0.00059*T**2 + 0.001813*T**3\n",
    "  return np.deg2rad(eps)\n",
    "\n",
    "def GMST(Y, D, M, h=0, m=0, s=0, TZ=-1):\n",
    "  '''Greenwich Mean Sidereal Time'''\n",
    "  T = T(JD(Y,M,D))  #The Julian date is calculated from the midnight at UT1=0\n",
    "  GMST0 = 24110.54841 + 8640184.812866*T + 0.093104*T**2 - 0.0000062*T**3 #GMST at UT1=0\n",
    "  F = (h + m/60 + s/3600)/24 + TZ/24  #Time from UT1 in fraction of days\n",
    "  GMST = GMST0 + F*24*3600*1.002737909350795 #GMST at the right time calculated in seconds\n",
    "  return GMST*2*np.pi/(24*3600) #GMST angle in RADIANS\n",
    "\n"
   ]
  },
  {
   "cell_type": "markdown",
   "metadata": {},
   "source": [
    "### Cartesian Position of a planet at a given date and time"
   ]
  },
  {
   "cell_type": "code",
   "execution_count": 30,
   "metadata": {},
   "outputs": [],
   "source": [
    "def Rx(theta, v):\n",
    "  '''Rotation of a vector along the x-axis'''\n",
    "  return np.array(v[0], v[1]*np.cos(theta)+v[2]*np.sin(theta), -v[1]*np.sin(theta)+v[2]*np.cos(theta))\n",
    "\n",
    "def Rz(theta, v):\n",
    "  '''Rotation of a vector around the z-axis'''\n",
    "  return np.array(v[0]*np.cos(theta)+v[1]*np.sin(theta), -v[0]*np.sin(theta)+v[1]*np.cos(theta), v[2])\n",
    "\n",
    "def R_L2I(v, pi, i, Omega):\n",
    "  '''Rotation from the Lagrange to the Inertial RF'''\n",
    "  return Rz( pi-Omega, Rx( i, Rz( Omega, v )))\n",
    "\n",
    "def orbital_elements(planet_name, JD):\n",
    "  '''Returns the Orbital elemnts at a given Julian date'''\n",
    "  t = T(JD)\n",
    "  T_pol = np.array([1,t,t**2,t**3]) #Polynomial in T (1, T, T^2, T^3)\n",
    "  orbital_elements = {}\n",
    "  for x in planet[planet_name].keys():\n",
    "    orbital_elements[x] = np.dot(planet[planet_name][x], T_pol)\n",
    "\n",
    "  return orbital_elements\n",
    "\n",
    "def Lagrange_coord(planet_name, JD):\n",
    "  '''Coordinates of the planet in the Lagrange RF'''\n",
    "  OE = orbital_elements(planet_name, JD)\n",
    "  a = OE['a']\n",
    "  L = OE['L']\n",
    "  e = OE['e']\n"
   ]
  }
 ],
 "metadata": {
  "kernelspec": {
   "display_name": "Python 3",
   "language": "python",
   "name": "python3"
  },
  "language_info": {
   "codemirror_mode": {
    "name": "ipython",
    "version": 3
   },
   "file_extension": ".py",
   "mimetype": "text/x-python",
   "name": "python",
   "nbconvert_exporter": "python",
   "pygments_lexer": "ipython3",
   "version": "3.10.12"
  }
 },
 "nbformat": 4,
 "nbformat_minor": 2
}
