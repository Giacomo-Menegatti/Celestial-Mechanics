{
 "cells": [
  {
   "cell_type": "markdown",
   "metadata": {},
   "source": [
    "# Homework 4\n",
    "## Giacomo Menegatti 2122852"
   ]
  },
  {
   "cell_type": "code",
   "execution_count": 10,
   "metadata": {},
   "outputs": [],
   "source": [
    "import numpy as np\n",
    "import matplotlib.pyplot as plt\n"
   ]
  },
  {
   "cell_type": "markdown",
   "metadata": {},
   "source": [
    "## Finding the eccentricity e for the maximum angular deceleration at $f=\\frac{\\pi}{4}$\n",
    " \n",
    "The equations used in this problem are $$r^2\\dot f = h$$ $$r=\\frac{p}{1+e\\cos f} \\implies \\dot r = \\frac{he}{p}\\sin f$$\n",
    "To find the maximum angular deceleration $-\\ddot f$ I derive $\\dot f$ twice (with $h$, $p$ and $e$ constants) obtaining $$\\dot f = \\frac{h}{r^2} = \\frac{h}{p^2}(1+e\\cos f)^2$$\n",
    "$$ \\ddot f= -2\\frac{h^2e}{p^4}(1+e \\cos f)^3\\sin f$$\n",
    "$$ \\frac{d^3f}{dt^3}=-2\\frac{h^2e}{p^4}(1+e\\cos f)^2[-3e\\sin^2 f + (1+e \\cos f)\\cos f]\\dot f $$\n",
    "Imposing $[...] = 0$, I obtain the equation $$e= \\frac{\\cos f}{3-4\\cos^2 f}$$\n",
    "Using $f=\\frac{\\pi}{4}$, I get $e=0.7071$"
   ]
  },
  {
   "cell_type": "markdown",
   "metadata": {},
   "source": [
    "## Laplace to Heliocentric RF transformation"
   ]
  }
 ],
 "metadata": {
  "kernelspec": {
   "display_name": "Python 3",
   "language": "python",
   "name": "python3"
  },
  "language_info": {
   "codemirror_mode": {
    "name": "ipython",
    "version": 3
   },
   "file_extension": ".py",
   "mimetype": "text/x-python",
   "name": "python",
   "nbconvert_exporter": "python",
   "pygments_lexer": "ipython3",
   "version": "3.10.12"
  }
 },
 "nbformat": 4,
 "nbformat_minor": 2
}
