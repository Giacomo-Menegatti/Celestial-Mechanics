{
 "cells": [
  {
   "cell_type": "markdown",
   "metadata": {},
   "source": [
    "# Homework 4\n",
    "## Giacomo Menegatti 2122852"
   ]
  },
  {
   "cell_type": "code",
   "execution_count": 335,
   "metadata": {},
   "outputs": [],
   "source": [
    "import numpy as np\n",
    "import matplotlib.pyplot as plt\n",
    "import pandas as pd\n"
   ]
  },
  {
   "cell_type": "markdown",
   "metadata": {},
   "source": [
    "## Finding the eccentricity e for the maximum angular deceleration at $f=\\frac{\\pi}{4}$\n",
    " \n",
    "The equations used in this problem are $$r^2\\dot f = h$$ $$r=\\frac{p}{1+e\\cos f} \\implies \\dot r = \\frac{he}{p}\\sin f$$\n",
    "To find the maximum angular deceleration $-\\ddot f$ I derive $\\dot f$ twice (with $h$, $p$ and $e$ constants) obtaining $$\\dot f = \\frac{h}{r^2} = \\frac{h}{p^2}(1+e\\cos f)^2$$\n",
    "$$ \\ddot f= -2\\frac{h^2e}{p^4}(1+e \\cos f)^3\\sin f$$\n",
    "$$ \\frac{d^3f}{dt^3}=-2\\frac{h^2e}{p^4}(1+e\\cos f)^2[-3e\\sin^2 f + (1+e \\cos f)\\cos f]\\dot f $$\n",
    "Imposing $[...] = 0$, I obtain the equation $$e= \\frac{\\cos f}{3-4\\cos^2 f}$$\n",
    "Using $f=\\frac{\\pi}{4}$, I get $e=0.7071$"
   ]
  },
  {
   "cell_type": "markdown",
   "metadata": {},
   "source": [
    "## Laplace to Heliocentric RF transformation\n",
    "### Read the orbital elements from the file"
   ]
  },
  {
   "cell_type": "code",
   "execution_count": 336,
   "metadata": {},
   "outputs": [],
   "source": [
    "# Read the file skipping the comments and the last column (;)\n",
    "df = pd.read_csv('Elementi Orbitali (Meeus - MEE of date).m', delimiter='\\s+', comment='%', header=None, usecols=[0,1,2,3])\n",
    "\n",
    "planet_names = ['Mercury', 'Venus', 'Earth', 'Mars', 'Jupiter', 'Saturn', 'Uranus', 'Neptune']\n",
    "planet = {}\n",
    "for i, name in enumerate(planet_names):\n",
    "  #Save the orbital elements in a dictionary. I pick blocks of 7 rows at every time because the last one is blank\n",
    "  orbital_elements = {}\n",
    "  orbital_elements['L'] = np.array(df.iloc[7*i])\n",
    "  orbital_elements['a'] = np.array(df.iloc[7*i+1])\n",
    "  orbital_elements['e'] = np.array(df.iloc[7*i+2])\n",
    "  orbital_elements['i'] = np.array(df.iloc[7*i+3])\n",
    "  orbital_elements['Omega'] = np.array(df.iloc[7*i+4])\n",
    "  orbital_elements['pi'] = np.array(df.iloc[7*i+5])\n",
    "\n",
    "  #Save the dictionary with the planet name\n",
    "  planet[name]=orbital_elements\n"
   ]
  },
  {
   "cell_type": "markdown",
   "metadata": {},
   "source": [
    "### Get the Julian time at a specific date\n",
    "For a given date Day-Month-Year hour the Julian time is given by \n",
    "$$JD_0 = D – 32075 + 1461 × (Y + 4800 + (M – 14)/12)/4\n",
    "+ 367 × (M – 2 – (M – 14)/12 × 12)/12\n",
    "–3 × ((Y + 4900 + (M – 14) / 12) / 100) /4$$\n",
    "$$JD = JD_0 + F – 0.5$$\n",
    "where $JD_0$ is the Julian date at noon and $JD$ the date at any fraction of day $F$ from the midnight."
   ]
  },
  {
   "cell_type": "code",
   "execution_count": 337,
   "metadata": {},
   "outputs": [],
   "source": [
    "def JD(day=1, month=1, year=2000, h=0, m=0, s=0, TZ=0):\n",
    "  '''Calculate the Julian Time from the Gregorian date'''\n",
    "  # In python trunc keeps only the integer part. //, round and floor do not work with negative nubers\n",
    "  C = np.trunc((month-14)/12)\n",
    "  JD0 = day-32075 + np.trunc(1461*(year+4800+C)/4) + np.trunc(367*(month-2-C*12)/12) - np.trunc(3*np.trunc((year+4900+C)/100)/4)\n",
    "  # Add the hour information and the Time Zone\n",
    "  JD = JD0 - 0.5 + TZ/24 + (h+m/60+s/3600)/24\n",
    "  return JD\n"
   ]
  },
  {
   "cell_type": "markdown",
   "metadata": {},
   "source": [
    "Define T, GMST and $\\epsilon$"
   ]
  },
  {
   "cell_type": "code",
   "execution_count": 338,
   "metadata": {},
   "outputs": [],
   "source": [
    "def T(JD):\n",
    "  '''Return the time in centuries from J2000.0'''\n",
    "  return (JD-2451545.0)/36525\n",
    "\n",
    "def eps(T):\n",
    "  '''Inclination of the Earth axis in RADIANS'''\n",
    "  eps = 23.439291 - 0.0130042*T - 0.00059*T**2 + 0.001813*T**3\n",
    "  return np.deg2rad(eps)\n",
    "\n",
    "def GMST(T):\n",
    "  '''Greenwich Mean Sidereal Time'''\n",
    "  GMST0 = 24110.54841 + 8640184.812866*T + 0.093104*T**2 - 0.0000062*T**3\n",
    "  print(GMST0)\n",
    "\n"
   ]
  },
  {
   "cell_type": "code",
   "execution_count": 345,
   "metadata": {},
   "outputs": [
    {
     "name": "stdout",
     "output_type": "stream",
     "text": [
      "24.28162413642817\n",
      "24.531624136424632\n"
     ]
    }
   ],
   "source": [
    "t = T(JD(2,1,2024,6))\n",
    "GMST0 = 24110.54841 + 8640184.812866*t + 0.093104*t**2 - 0.0000062*t**3\n",
    "print(GMST0/(24*3600))\n",
    "\n",
    "t = T(JD(2,1,2024,0))\n",
    "GMST0 = 24110.54841 + 8640184.812866*t + 0.093104*t**2 - 0.0000062*t**3\n",
    "GMST0 = GMST0 + 6*3600*1.002737909350795\n",
    "print(GMST0/(24*3600))\n"
   ]
  },
  {
   "cell_type": "code",
   "execution_count": 341,
   "metadata": {},
   "outputs": [
    {
     "data": {
      "text/plain": [
       "0.20000000000000018"
      ]
     },
     "execution_count": 341,
     "metadata": {},
     "output_type": "execute_result"
    }
   ],
   "source": [
    "5.2%1\n"
   ]
  }
 ],
 "metadata": {
  "kernelspec": {
   "display_name": "Python 3",
   "language": "python",
   "name": "python3"
  },
  "language_info": {
   "codemirror_mode": {
    "name": "ipython",
    "version": 3
   },
   "file_extension": ".py",
   "mimetype": "text/x-python",
   "name": "python",
   "nbconvert_exporter": "python",
   "pygments_lexer": "ipython3",
   "version": "3.10.12"
  }
 },
 "nbformat": 4,
 "nbformat_minor": 2
}
