{
 "cells": [
  {
   "cell_type": "code",
   "execution_count": 7,
   "metadata": {},
   "outputs": [],
   "source": [
    "import rebound\n",
    "import numpy as np\n",
    "import matplotlib.pyplot as plt\n"
   ]
  },
  {
   "cell_type": "code",
   "execution_count": 8,
   "metadata": {},
   "outputs": [],
   "source": [
    "N = 8\n",
    "M_sol = 2e30  #Solar mass\n",
    "G = 6.6743e-11  #G in m^3 s^-2 kg^-1\n",
    "au = 1.495978707e11 #Au in m\n",
    "yr = 365.2422*24*3600 #Year in s\n",
    "# G is now converted in AU^3 yr^-2 Msol^-1\n",
    "G = G*au**-3*yr**2*M_sol\n",
    "q = 1e-3  #softening factor\n",
    "M = 1\n",
    "N_points = int(1e6)\n",
    "\n",
    "v_circ = lambda r, GM:  (GM/r)**0.5\n"
   ]
  },
  {
   "cell_type": "code",
   "execution_count": 9,
   "metadata": {},
   "outputs": [],
   "source": [
    "sim = rebound.Simulation()\n",
    "sim.G = G\n",
    "sim.softening = q\n",
    "\n",
    "sim.add(m=M, x=0, y=0, vx=0, vy=0)\n",
    "for r in np.linspace(2, 16, N):\n",
    "  sim.add(m=M*1e-4, x=r, y=0, vx=0, vy=v_circ(r,G*M))\n",
    "#Move the system to the Center Of Mass RF\n",
    "sim.move_to_com()\n",
    "\n",
    "\n",
    "T = np.linspace(0,2e4,N_points)\n",
    "y = [] \n",
    "\n",
    "for t in T:\n",
    "    sim.integrate(t)\n",
    "    y_t=[]\n",
    "    for p in sim.particles:\n",
    "        y_t.append([p.x, p.y, p.vx, p.vy])\n",
    "    y.append(y_t)\n",
    "\n",
    "y = np.array(y)\n"
   ]
  },
  {
   "cell_type": "code",
   "execution_count": 10,
   "metadata": {},
   "outputs": [],
   "source": [
    "y_centered = [y[:,i+1] - y[:,0] for i in range(N)]\n",
    "y = np.array(y_centered)\n"
   ]
  }
 ],
 "metadata": {
  "kernelspec": {
   "display_name": "Python 3",
   "language": "python",
   "name": "python3"
  },
  "language_info": {
   "codemirror_mode": {
    "name": "ipython",
    "version": 3
   },
   "file_extension": ".py",
   "mimetype": "text/x-python",
   "name": "python",
   "nbconvert_exporter": "python",
   "pygments_lexer": "ipython3",
   "version": "3.10.12"
  }
 },
 "nbformat": 4,
 "nbformat_minor": 2
}
