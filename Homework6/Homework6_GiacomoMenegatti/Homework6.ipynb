{
 "cells": [
  {
   "cell_type": "markdown",
   "metadata": {},
   "source": [
    "# Giacomo Menegatti Homework 6\n",
    "\n",
    "## WARNING\n",
    "This homework is not completed becuase I haven't been able to reproduce the wanted results. I submit this as a proof of my work, and I will try to fix the bugs and errors present in the code in the next few days.\n",
    "\n",
    "## LAGEOS satellite orbit propagation\n",
    "For this work I found a different library than pysofa which is pyerfa (Essential Routines for Fundamental Astronomy) based on SOFA, which I found more complete."
   ]
  },
  {
   "cell_type": "code",
   "execution_count": 1,
   "metadata": {},
   "outputs": [],
   "source": [
    "import numpy as np\n",
    "import matplotlib.pyplot as plt\n",
    "from scipy.integrate import solve_ivp\n",
    "import pandas as pd\n",
    "import erfa\n",
    "import matplotlib.pyplot as plt\n"
   ]
  },
  {
   "cell_type": "markdown",
   "metadata": {},
   "source": [
    "### Associated Legendre Functions table of coefficients\n",
    "The coefficients are calculated by the relations $$f_n = \\sqrt{(1+\\delta_{1n})\\frac{2n+1}{2n}} $$\n",
    "$$ g^m_n =\\sqrt{\\frac{(2n+1)(2n-1)}{(n+m)(n-m)}} $$\n",
    "$$ h_n^m = \\frac{g_n^m}{g^m_{n-1}} $$\n",
    "$$ f'_n=\\sqrt{\\frac{n(n+1)}{2}} $$\n",
    "$$ k_n^m = \\frac{1}{2}\\sqrt{(n-m)(n+m+1)} $$\n",
    "$$ l_n^m = \\frac{1}{2}\\sqrt{(1+\\delta_{1m})(n+m)(n-m+1)} $$ \n",
    "\n",
    "The Legendre functions are calculated with the recurrent relationships\n",
    "\n",
    "$$ P_n^n(\\sin \\phi) = f_n \\cos \\phi P^{n-1}_{n-1}(\\sin \\phi) $$\n",
    "$$ P_n^{n-1}(\\sin \\phi) = g_n^m \\sin \\phi P^{n-1}_{n-1}(\\sin \\phi) $$\n",
    "$$ P_n^m(\\sin \\phi) = g_n^m \\sin \\phi P^{m}_{n-1}(\\sin \\phi) - h^m_n P^{m}_{n-2}(\\sin \\phi)$$\n",
    "$$ \\partial_\\phi P_n(\\sin \\phi) = f'_n P_n^1(\\sin \\phi) $$\n",
    "$$ \\partial_\\phi P_n^m(\\sin \\phi) = k_n^m P_n^{m+1}(\\sin \\phi)-l_n^m P_n^{m-1}(\\sin \\phi) $$\n",
    "\n",
    "The functions and the coefficients are saved in a table where the index is given by $\\frac{n(n+1)}{2}+m$. In this way each value for $n$, $0\\leq m\\leq n$ is assigned to a unique entry. I assume that all values with $m>n$ are equal to zero. \n"
   ]
  },
  {
   "cell_type": "code",
   "execution_count": 2,
   "metadata": {},
   "outputs": [],
   "source": [
    "f = lambda n, m : ((1+1*(n==1))*(2*n+1)/(2*n))**0.5 #I added the m variable even as I don't use it to have the same form\n",
    "g = lambda n, m : ((2*n+1)*(2*n-1)/((n+m)*(n-m)))**0.5\n",
    "h = lambda n, m : g(n,m)/g(n-1,m)\n",
    "\n",
    "fprime = lambda n, m : (n*(n+1)/2)**0.5\n",
    "k = lambda n, m : 0.5*((n-m)*(n+m+1))**0.5\n",
    "l = lambda n, m : 0.5*((1+1*(m==1))*(n+m)*(n-m+1))**0.5\n",
    "\n",
    "#Index function\n",
    "i = lambda n,m : n*(n+1)//2+m\n",
    "\n",
    "#Table of coefficients. Values that do not exists are reported as Nan\n",
    "#In this way the indexing of the values is always the same\n",
    "\n",
    "def coef_table(deg):\n",
    "  M_ = [m for n in range(deg+1) for m in range(n+1)]\n",
    "  N_ = [n for n in range(deg+1) for m in range(n+1)]\n",
    "\n",
    "  F_ = [f(n,m) if n>0 else np.NAN for m, n in zip(M_,N_)]\n",
    "  G_ = [g(n,m) if n>m else np.NAN for m,n in zip(M_,N_)] #g is not defined for m==n\n",
    "  H_ = [h(n,m) if n>m+1 else np.NAN for m,n in zip(M_,N_)] #g is not defined for m==n and m=n-1\n",
    "  FPRIME_ = [fprime(n,m) for m, n in zip(M_,N_)]\n",
    "  K_ = [k(n,m) for m, n in zip(M_,N_)]\n",
    "  L_ = [l(n,m) for m, n in zip(M_,N_)]\n",
    "  \n",
    "  return M_,N_,F_,G_,H_,FPRIME_,K_,L_\n"
   ]
  },
  {
   "cell_type": "code",
   "execution_count": 3,
   "metadata": {},
   "outputs": [
    {
     "data": {
      "text/html": [
       "<div>\n",
       "<style scoped>\n",
       "    .dataframe tbody tr th:only-of-type {\n",
       "        vertical-align: middle;\n",
       "    }\n",
       "\n",
       "    .dataframe tbody tr th {\n",
       "        vertical-align: top;\n",
       "    }\n",
       "\n",
       "    .dataframe thead th {\n",
       "        text-align: right;\n",
       "    }\n",
       "</style>\n",
       "<table border=\"1\" class=\"dataframe\">\n",
       "  <thead>\n",
       "    <tr style=\"text-align: right;\">\n",
       "      <th></th>\n",
       "      <th>n</th>\n",
       "      <th>m</th>\n",
       "      <th>f</th>\n",
       "      <th>g</th>\n",
       "      <th>h</th>\n",
       "      <th>fprime</th>\n",
       "      <th>k</th>\n",
       "      <th>l</th>\n",
       "    </tr>\n",
       "  </thead>\n",
       "  <tbody>\n",
       "    <tr>\n",
       "      <th>0</th>\n",
       "      <td>0.0</td>\n",
       "      <td>0.0</td>\n",
       "      <td>NaN</td>\n",
       "      <td>NaN</td>\n",
       "      <td>NaN</td>\n",
       "      <td>0.000000</td>\n",
       "      <td>0.000000</td>\n",
       "      <td>0.000000</td>\n",
       "    </tr>\n",
       "    <tr>\n",
       "      <th>1</th>\n",
       "      <td>0.0</td>\n",
       "      <td>1.0</td>\n",
       "      <td>1.732051</td>\n",
       "      <td>1.732051</td>\n",
       "      <td>NaN</td>\n",
       "      <td>1.000000</td>\n",
       "      <td>0.707107</td>\n",
       "      <td>0.707107</td>\n",
       "    </tr>\n",
       "    <tr>\n",
       "      <th>2</th>\n",
       "      <td>1.0</td>\n",
       "      <td>1.0</td>\n",
       "      <td>1.732051</td>\n",
       "      <td>NaN</td>\n",
       "      <td>NaN</td>\n",
       "      <td>1.000000</td>\n",
       "      <td>0.000000</td>\n",
       "      <td>1.000000</td>\n",
       "    </tr>\n",
       "    <tr>\n",
       "      <th>3</th>\n",
       "      <td>0.0</td>\n",
       "      <td>2.0</td>\n",
       "      <td>1.118034</td>\n",
       "      <td>1.936492</td>\n",
       "      <td>1.118034</td>\n",
       "      <td>1.732051</td>\n",
       "      <td>1.224745</td>\n",
       "      <td>1.224745</td>\n",
       "    </tr>\n",
       "    <tr>\n",
       "      <th>4</th>\n",
       "      <td>1.0</td>\n",
       "      <td>2.0</td>\n",
       "      <td>1.118034</td>\n",
       "      <td>2.236068</td>\n",
       "      <td>NaN</td>\n",
       "      <td>1.732051</td>\n",
       "      <td>1.000000</td>\n",
       "      <td>1.732051</td>\n",
       "    </tr>\n",
       "    <tr>\n",
       "      <th>5</th>\n",
       "      <td>2.0</td>\n",
       "      <td>2.0</td>\n",
       "      <td>1.118034</td>\n",
       "      <td>NaN</td>\n",
       "      <td>NaN</td>\n",
       "      <td>1.732051</td>\n",
       "      <td>0.000000</td>\n",
       "      <td>1.000000</td>\n",
       "    </tr>\n",
       "    <tr>\n",
       "      <th>6</th>\n",
       "      <td>0.0</td>\n",
       "      <td>3.0</td>\n",
       "      <td>1.080123</td>\n",
       "      <td>1.972027</td>\n",
       "      <td>1.018350</td>\n",
       "      <td>2.449490</td>\n",
       "      <td>1.732051</td>\n",
       "      <td>1.732051</td>\n",
       "    </tr>\n",
       "    <tr>\n",
       "      <th>7</th>\n",
       "      <td>1.0</td>\n",
       "      <td>3.0</td>\n",
       "      <td>1.080123</td>\n",
       "      <td>2.091650</td>\n",
       "      <td>0.935414</td>\n",
       "      <td>2.449490</td>\n",
       "      <td>1.581139</td>\n",
       "      <td>2.449490</td>\n",
       "    </tr>\n",
       "    <tr>\n",
       "      <th>8</th>\n",
       "      <td>2.0</td>\n",
       "      <td>3.0</td>\n",
       "      <td>1.080123</td>\n",
       "      <td>2.645751</td>\n",
       "      <td>NaN</td>\n",
       "      <td>2.449490</td>\n",
       "      <td>1.224745</td>\n",
       "      <td>1.581139</td>\n",
       "    </tr>\n",
       "    <tr>\n",
       "      <th>9</th>\n",
       "      <td>3.0</td>\n",
       "      <td>3.0</td>\n",
       "      <td>1.080123</td>\n",
       "      <td>NaN</td>\n",
       "      <td>NaN</td>\n",
       "      <td>2.449490</td>\n",
       "      <td>0.000000</td>\n",
       "      <td>1.224745</td>\n",
       "    </tr>\n",
       "  </tbody>\n",
       "</table>\n",
       "</div>"
      ],
      "text/plain": [
       "     n    m         f         g         h    fprime         k         l\n",
       "0  0.0  0.0       NaN       NaN       NaN  0.000000  0.000000  0.000000\n",
       "1  0.0  1.0  1.732051  1.732051       NaN  1.000000  0.707107  0.707107\n",
       "2  1.0  1.0  1.732051       NaN       NaN  1.000000  0.000000  1.000000\n",
       "3  0.0  2.0  1.118034  1.936492  1.118034  1.732051  1.224745  1.224745\n",
       "4  1.0  2.0  1.118034  2.236068       NaN  1.732051  1.000000  1.732051\n",
       "5  2.0  2.0  1.118034       NaN       NaN  1.732051  0.000000  1.000000\n",
       "6  0.0  3.0  1.080123  1.972027  1.018350  2.449490  1.732051  1.732051\n",
       "7  1.0  3.0  1.080123  2.091650  0.935414  2.449490  1.581139  2.449490\n",
       "8  2.0  3.0  1.080123  2.645751       NaN  2.449490  1.224745  1.581139\n",
       "9  3.0  3.0  1.080123       NaN       NaN  2.449490  0.000000  1.224745"
      ]
     },
     "execution_count": 3,
     "metadata": {},
     "output_type": "execute_result"
    }
   ],
   "source": [
    "M_coeff,N_coeff,F_coeff,G_coeff,H_coeff,FPRIME_coeff,K_coeff,L_coeff = coef_table(10)\n",
    "table = pd.DataFrame(np.array([M_coeff,N_coeff,F_coeff,G_coeff,H_coeff,FPRIME_coeff,K_coeff,L_coeff]).transpose(), columns=['n','m','f','g','h','fprime','k','l'])\n",
    "table.head(10)\n"
   ]
  },
  {
   "cell_type": "markdown",
   "metadata": {},
   "source": [
    "The coeeficients are the same ones given in the provided table."
   ]
  },
  {
   "cell_type": "code",
   "execution_count": 4,
   "metadata": {},
   "outputs": [],
   "source": [
    "def ALF_table(x, deg=10):\n",
    "  # The index of (n,m) is n^2+n+1-m\n",
    "\n",
    "  P_ = [1.0]  #P(0,0)\n",
    "  DP_ = [0.0]\n",
    "\n",
    "  for n in range(1,deg+1):\n",
    "    for m in range(n+1):\n",
    "\n",
    "      if m==n:\n",
    "        P_.append(F_coeff[i(n,m)]*(1-x**2)**0.5 * P_[i(n-1, n-1)])   #As x is sin, cos is sqrt(1-x^2)\n",
    "      elif m==n-1:\n",
    "        P_.append(G_coeff[i(n,m)]*x*P_[i(n-1, n-1)])\n",
    "      else:\n",
    "        P_.append(G_coeff[i(n,m)]*x*P_[i(n-1, m)]-H_coeff[i(n,m)]*P_[i(n-2, m)])\n",
    "\n",
    "  for n in range(1,deg+1):\n",
    "    for m in range(0, n+1):\n",
    "      \n",
    "      if m==0:\n",
    "        DP_.append(fprime(n,m)*P_[i(n,1)])\n",
    "      elif m==n:  # In this condition the first value is zero\n",
    "        DP_.append(-L_coeff[i(n,m)]*P_[i(n,m-1)])\n",
    "      else:\n",
    "        DP_.append(K_coeff[i(n,m)]*P_[i(n,m+1)] - L_coeff[i(n,m)]*P_[i(n,m-1)])\n",
    "\n",
    "  return np.array(P_),np.array(DP_)\n",
    "  "
   ]
  },
  {
   "cell_type": "markdown",
   "metadata": {},
   "source": [
    "### fnALF test\n",
    "The fnALFs have to satisfy the conditions $$ \\sum_{n=0}^N \\sum_{m=0}^n P_n^m (x) = (N+1)^2 $$ $$ \\sum_{n=0}^N \\sum_{m=0}^n \\partial_x P_n^m (x) = \\frac{(N+1)^2(N+2)N}{4} $$ for every angle. This has been proven up to N=10 selecting every time a random angle."
   ]
  },
  {
   "cell_type": "code",
   "execution_count": 5,
   "metadata": {},
   "outputs": [
    {
     "name": "stdout",
     "output_type": "stream",
     "text": [
      "For N=0: expected values 1 and 0.0: obtained 1.0 and 0.0\n",
      "For N=1: expected values 4 and 3.0: obtained 3.9999999999999996 and 2.9999999999999996\n",
      "For N=2: expected values 9 and 18.0: obtained 9.0 and 17.999999999999996\n",
      "For N=3: expected values 16 and 60.0: obtained 15.999999999999998 and 59.999999999999964\n",
      "For N=4: expected values 25 and 150.0: obtained 25.00000000000001 and 150.00000000000003\n",
      "For N=5: expected values 36 and 315.0: obtained 36.00000000000001 and 315.0000000000003\n",
      "For N=6: expected values 49 and 588.0: obtained 49.000000000000014 and 588.0000000000001\n",
      "For N=7: expected values 64 and 1008.0: obtained 64.0 and 1008.0\n",
      "For N=8: expected values 81 and 1620.0: obtained 81.0 and 1619.9999999999998\n",
      "For N=9: expected values 100 and 2475.0: obtained 100.00000000000004 and 2475.0000000000005\n",
      "For N=10: expected values 121 and 3630.0: obtained 120.99999999999999 and 3630.0000000000005\n"
     ]
    }
   ],
   "source": [
    "for deg in range(11):\n",
    "  phi = np.random.uniform(-np.pi/2, np.pi/2)  #Get a random angle every time\n",
    "  P, DP = ALF_table(np.sin(phi), deg)\n",
    "  print(f'For N={deg}: expected values {(deg+1)**2} and {(deg+1)**2*(deg+2)*deg/4}: obtained {sum(P**2)} and {sum(DP**2)}')\n"
   ]
  },
  {
   "cell_type": "markdown",
   "metadata": {},
   "source": [
    "### Acceleration in the body-fixed RF\n",
    "The acceleration in cartesian coordinates in the body-fixed RF is given by \n",
    "$$ a_x = \\cos \\phi \\cos \\lambda \\partial_r U -\\frac{1}{r}\\sin \\phi \\cos \\lambda \\partial_\\phi U -\\frac{1}{r}\\frac{\\sin \\lambda}{\\cos \\phi } \\partial_\\lambda U $$\n",
    "$$ a_y = \\cos \\phi \\sin \\lambda \\partial_r U -\\frac{1}{r}\\sin \\phi \\sin \\lambda \\partial_\\phi U + \\frac{1}{r}\\frac{\\sin \\lambda}{\\cos \\phi } \\partial_\\lambda U $$\n",
    "$$ a_z = \\sin \\phi \\partial_r U + \\frac{1}{r}\\cos \\phi \\partial_\\phi U $$\n",
    "\n",
    "The gradient of the potential is given by\n",
    "$$\\frac{1}{\\cos \\phi}\\partial_\\lambda U = \\frac{GM}{r}\\sum_{n=1}^\\infty \\sum_{m=1}^n \\left( \\frac{a_e}{r} \\right)^n K_{nm}m[r_{nm}P_{n-1}^{m+1}(\\sin \\phi)+s_{nm}P^{m-1}_{n-1}(\\sin \\phi)] $$\n",
    "\n",
    "$$ \\partial_r U = -\\frac{GM}{r^2}[1+\\sum_{n=1}^\\infty \\sum_{m=0}^n (n+1)\\left( \\frac{a_e}{r} \\right)^n H_{nm} P_{n}^{m}(\\sin \\phi)] $$\n",
    "\n",
    "$$ \\partial_\\phi U = \\frac{GM}{r}\\sum_{n=1}^\\infty \\sum_{m=0}^n \\left( \\frac{a_e}{r} \\right)^n H_{nm} \\partial_\\phi P_{n}^{m}(\\sin \\phi) $$\n",
    "\n",
    "with \n",
    "$$ H_{nm} = C_{nm}\\cos m\\lambda + S_{nm}\\sin m\\lambda $$\n",
    "$$ K_{nm} = S_{nm}\\cos m\\lambda - C_{nm}\\sin m\\lambda $$\n",
    "\n",
    "$$ r_{nm} = \\frac{1}{2}\\sqrt{(n-m)(n+m+1)} $$\n",
    "$$ s_{nm} = r_{nm}(n+m)(n+m-1)\\sqrt{\\frac{2n+1}{2n-1}} $$\n",
    "All this calculations are done with the fully normalized functions."
   ]
  },
  {
   "cell_type": "code",
   "execution_count": 6,
   "metadata": {},
   "outputs": [],
   "source": [
    "H = lambda l, n,m,C,S : C[i(n,m)]*np.cos(m*l)+S[i(n,m)]*np.sin(m*l)\n",
    "K = lambda l, n,m,C,S : S[i(n,m)]*np.cos(m*l)-C[i(n,m)]*np.sin(m*l)\n",
    "r = lambda n,m : 0.5*((n+m)*(n+m+1))**0.5\n",
    "s = lambda n,m : r(n,m)*(n+m)*(n+m-1)*((2*n+1)/(2*n-1))**0.5\n",
    "\n",
    "\n",
    "def acc_b(x_b, C, S, GM, a_e, deg=10):\n",
    "  '''Acceleration in the body-fixed RF'''\n",
    "  \n",
    "  R = np.linalg.norm(x_b)\n",
    "  l = np.arctan2(x_b[1],x_b[0])\n",
    "  phi = np.arcsin(x_b[2]/R)\n",
    "  a = a_e/R\n",
    "  \n",
    "  P , DP = ALF_table(np.sin(phi), 10)\n",
    "  \n",
    "  dUr = -GM/R**2*(1+sum([(n+1)*a**n*H(l,n,m, C, S)*P[i(n,m)] for n in range(1,deg+1) for m in range(0, n+1)]))\n",
    "  dUphi = GM/R*sum([a**n*H(l,n,m,C,S)*DP[i(n,m)] for n in range(1,deg+1) for m in range(0, n+1)])\n",
    "  \n",
    "  #In the next computation I have a problem, as it may happen that m>n\n",
    "  # when computing P_{n-1}^{m+1} if m>n-2. If m=n P_{n-1}^{n+1} r_nm goes to zero, in the other case I assumed P_{n-1}^{n} to be always zero. Still I have to add a conditional statement to be sure that the computation will not happen\n",
    "\n",
    "  dUl = GM/R*sum([ a**n*K(l,n,m,C,S)*m*s(n,m)*P[i(n-1, m-1)] if m>n-2 else a**n*K(l,n,m,C,S)*m*(r(n,m)*P[i(n-1, m+1)] + s(n,m)*P[i(n-1, m-1)]) for n in range(1,deg+1) for m in range(1, n+1)])\n",
    "\n",
    "  ax = np.cos(phi)*np.cos(l)*dUr - np.sin(phi)*np.cos(l)/R*dUphi - np.sin(l)/R*dUl\n",
    "  ay = np.cos(phi)*np.sin(l)*dUr - np.sin(phi)*np.sin(l)/R*dUphi + np.cos(l)/R*dUl\n",
    "  az = np.sin(phi)*dUr + np.cos(phi)/R*dUphi\n",
    "\n",
    "  return np.array([ax, ay, az])\n"
   ]
  },
  {
   "cell_type": "markdown",
   "metadata": {},
   "source": [
    "### Reading the coefficients C and S"
   ]
  },
  {
   "cell_type": "code",
   "execution_count": 7,
   "metadata": {},
   "outputs": [
    {
     "data": {
      "text/html": [
       "<div>\n",
       "<style scoped>\n",
       "    .dataframe tbody tr th:only-of-type {\n",
       "        vertical-align: middle;\n",
       "    }\n",
       "\n",
       "    .dataframe tbody tr th {\n",
       "        vertical-align: top;\n",
       "    }\n",
       "\n",
       "    .dataframe thead th {\n",
       "        text-align: right;\n",
       "    }\n",
       "</style>\n",
       "<table border=\"1\" class=\"dataframe\">\n",
       "  <thead>\n",
       "    <tr style=\"text-align: right;\">\n",
       "      <th></th>\n",
       "      <th>gfc</th>\n",
       "      <th>n</th>\n",
       "      <th>m</th>\n",
       "      <th>C</th>\n",
       "      <th>S</th>\n",
       "      <th>sigmaC</th>\n",
       "      <th>sigmaS</th>\n",
       "    </tr>\n",
       "  </thead>\n",
       "  <tbody>\n",
       "    <tr>\n",
       "      <th>0</th>\n",
       "      <td>gfc</td>\n",
       "      <td>0</td>\n",
       "      <td>0</td>\n",
       "      <td>1.000000e+00</td>\n",
       "      <td>0.000000e+00</td>\n",
       "      <td>0.000000e+00</td>\n",
       "      <td>0.000000e+00</td>\n",
       "    </tr>\n",
       "    <tr>\n",
       "      <th>1</th>\n",
       "      <td>gfc</td>\n",
       "      <td>2</td>\n",
       "      <td>0</td>\n",
       "      <td>-4.841654e-04</td>\n",
       "      <td>0.000000e+00</td>\n",
       "      <td>3.561063e-11</td>\n",
       "      <td>0.000000e+00</td>\n",
       "    </tr>\n",
       "    <tr>\n",
       "      <th>2</th>\n",
       "      <td>gfc</td>\n",
       "      <td>2</td>\n",
       "      <td>1</td>\n",
       "      <td>-1.869876e-10</td>\n",
       "      <td>1.195280e-09</td>\n",
       "      <td>1.000000e-30</td>\n",
       "      <td>1.000000e-30</td>\n",
       "    </tr>\n",
       "    <tr>\n",
       "      <th>3</th>\n",
       "      <td>gfc</td>\n",
       "      <td>2</td>\n",
       "      <td>2</td>\n",
       "      <td>2.439144e-06</td>\n",
       "      <td>-1.400167e-06</td>\n",
       "      <td>5.373915e-11</td>\n",
       "      <td>5.435327e-11</td>\n",
       "    </tr>\n",
       "    <tr>\n",
       "      <th>4</th>\n",
       "      <td>gfc</td>\n",
       "      <td>3</td>\n",
       "      <td>0</td>\n",
       "      <td>9.572542e-07</td>\n",
       "      <td>0.000000e+00</td>\n",
       "      <td>1.809424e-11</td>\n",
       "      <td>0.000000e+00</td>\n",
       "    </tr>\n",
       "    <tr>\n",
       "      <th>5</th>\n",
       "      <td>gfc</td>\n",
       "      <td>3</td>\n",
       "      <td>1</td>\n",
       "      <td>2.029989e-06</td>\n",
       "      <td>2.485132e-07</td>\n",
       "      <td>1.396517e-10</td>\n",
       "      <td>1.364588e-10</td>\n",
       "    </tr>\n",
       "    <tr>\n",
       "      <th>6</th>\n",
       "      <td>gfc</td>\n",
       "      <td>3</td>\n",
       "      <td>2</td>\n",
       "      <td>9.046278e-07</td>\n",
       "      <td>-6.190259e-07</td>\n",
       "      <td>1.096233e-10</td>\n",
       "      <td>1.118287e-10</td>\n",
       "    </tr>\n",
       "    <tr>\n",
       "      <th>7</th>\n",
       "      <td>gfc</td>\n",
       "      <td>3</td>\n",
       "      <td>3</td>\n",
       "      <td>7.210727e-07</td>\n",
       "      <td>1.414356e-06</td>\n",
       "      <td>9.515628e-11</td>\n",
       "      <td>9.328509e-11</td>\n",
       "    </tr>\n",
       "    <tr>\n",
       "      <th>8</th>\n",
       "      <td>gfc</td>\n",
       "      <td>4</td>\n",
       "      <td>0</td>\n",
       "      <td>5.398739e-07</td>\n",
       "      <td>0.000000e+00</td>\n",
       "      <td>1.042368e-10</td>\n",
       "      <td>0.000000e+00</td>\n",
       "    </tr>\n",
       "    <tr>\n",
       "      <th>9</th>\n",
       "      <td>gfc</td>\n",
       "      <td>4</td>\n",
       "      <td>1</td>\n",
       "      <td>-5.363216e-07</td>\n",
       "      <td>-4.734403e-07</td>\n",
       "      <td>8.567440e-11</td>\n",
       "      <td>8.240849e-11</td>\n",
       "    </tr>\n",
       "  </tbody>\n",
       "</table>\n",
       "</div>"
      ],
      "text/plain": [
       "   gfc  n  m             C             S        sigmaC        sigmaS\n",
       "0  gfc  0  0  1.000000e+00  0.000000e+00  0.000000e+00  0.000000e+00\n",
       "1  gfc  2  0 -4.841654e-04  0.000000e+00  3.561063e-11  0.000000e+00\n",
       "2  gfc  2  1 -1.869876e-10  1.195280e-09  1.000000e-30  1.000000e-30\n",
       "3  gfc  2  2  2.439144e-06 -1.400167e-06  5.373915e-11  5.435327e-11\n",
       "4  gfc  3  0  9.572542e-07  0.000000e+00  1.809424e-11  0.000000e+00\n",
       "5  gfc  3  1  2.029989e-06  2.485132e-07  1.396517e-10  1.364588e-10\n",
       "6  gfc  3  2  9.046278e-07 -6.190259e-07  1.096233e-10  1.118287e-10\n",
       "7  gfc  3  3  7.210727e-07  1.414356e-06  9.515628e-11  9.328509e-11\n",
       "8  gfc  4  0  5.398739e-07  0.000000e+00  1.042368e-10  0.000000e+00\n",
       "9  gfc  4  1 -5.363216e-07 -4.734403e-07  8.567440e-11  8.240849e-11"
      ]
     },
     "execution_count": 7,
     "metadata": {},
     "output_type": "execute_result"
    }
   ],
   "source": [
    "ICGEM = pd.read_csv('EGM96.gfc', sep='\\s+', skiprows=21, header=None, names=['gfc','n', 'm', 'C', 'S', 'sigmaC', 'sigmaS'])\n",
    "ICGEM.head(10)\n"
   ]
  },
  {
   "cell_type": "code",
   "execution_count": 8,
   "metadata": {},
   "outputs": [],
   "source": [
    "#The values for n=1 are all zero because the origin of the RF is in the center of mass\n",
    "# I set them manually to zero\n",
    "C = [ICGEM.iloc[0]['C'], 0.0, 0.0]\n",
    "S = [ICGEM.iloc[0]['S'], 0.0, 0.0]\n",
    "\n",
    "# Save the coefficients up to the highest required degree in the list\n",
    "C.extend(ICGEM.iloc[1:i(deg,deg)-1]['C'])\n",
    "S.extend(ICGEM.iloc[1:i(deg,deg)-1]['S'])\n",
    "\n",
    "GM = 3.986004415e14  # Gravitational parameter\n",
    "R_E = 6.378136300e6  # Radius of the Earth\n"
   ]
  },
  {
   "cell_type": "markdown",
   "metadata": {},
   "source": [
    "### LAGEOS - 1 orbit propagation\n",
    "The acceleration is given in body-fixed coordinated, so they must be rotated from an inertial Rf to the body-fixed one and back. This has been done as described in the given material by calculating the matrix P of precession and nutation and rotating by the Earth rotation angle."
   ]
  },
  {
   "cell_type": "code",
   "execution_count": 9,
   "metadata": {},
   "outputs": [],
   "source": [
    "def acc_i(x_i, date1, date2, C, S, GM, a_e, deg=10):\n",
    "  \n",
    "  P = erfa.pnm06a(date1, date2)\n",
    "  E = erfa.era00(date1, date2)  #Earth rotation angle at date\n",
    "  R = erfa.rz(E,P)  #Final Rotation matrix\n",
    "  x_b = np.dot(R, x_i)  #position in the body-fixed RF\n",
    "  a_b = acc_b(x_b, C, S, GM, a_e, deg)\n",
    "  return np.dot(R.T, a_b) #Rotating back the vector to the inertial RF\n"
   ]
  },
  {
   "cell_type": "markdown",
   "metadata": {},
   "source": [
    "The ODE is integrated using the solve_ivp method. Because dtf2d splits the Julian date in integer part and remainder, I used the remainder to store the growing time and the first part to store the initial date."
   ]
  },
  {
   "cell_type": "code",
   "execution_count": 10,
   "metadata": {},
   "outputs": [],
   "source": [
    "# Solution od dy/dt = f(y,t)\n",
    "\n",
    "def f(t,y,GM, C, S, a_e, date):\n",
    "  x_i = y[0:3]\n",
    "  v_i = y[3:6]\n",
    "  a_i = acc_i(x_i, date, t, C, S, GM, a_e)\n",
    "  return np.concatenate((v_i, a_i), axis=None)\n"
   ]
  },
  {
   "cell_type": "markdown",
   "metadata": {},
   "source": [
    "As a test, I integrated the LAGEOS motion from Jan 1st 2020 to Mar 9th 2022, dates fro which I have the position and velocity."
   ]
  },
  {
   "cell_type": "code",
   "execution_count": 11,
   "metadata": {},
   "outputs": [],
   "source": [
    "date1, date2 = erfa.dtf2d(\"UTC\", 2020, 1, 1, 0,0,0)\n",
    "date3, date4 = erfa.dtf2d(\"UTC\", 2022, 3, 9, 0, 0, 0)\n",
    "\n",
    "x0 = np.array([-3925648.12725143,    4994759.41318484,  -10562295.01282353])\n",
    "v0 = np.array([709.82404964822,    5180.59677349323,    2200.47213474637])\n",
    "\n",
    "x_f = np.array([9198201.11108904,    3346470.46358190,   -7343619.83372384])\n",
    "v_f = np.array([3760.29086118529,   -1216.94859686718,    4128.52516735403])\n",
    "\n",
    "date_start = date1+date2\n",
    "deltaT = date3 + date4 - date1-date2  #Difference in days between the start and end\n",
    "\n",
    "dt = 1.0/(24*3600)*5  #Calculated every 5 seconds\n",
    "\n",
    "y0 = np.concatenate((x0, v0), axis=None)\n",
    "sol = solve_ivp(f, y0=y0, t_span=(0,deltaT), t_eval=np.arange(0,deltaT,dt), args=(GM, C,S,R_E, date_start), rtol=1e-12)\n"
   ]
  },
  {
   "cell_type": "code",
   "execution_count": 14,
   "metadata": {},
   "outputs": [
    {
     "data": {
      "image/png": "[encoded data removed]",
      "text/plain": [
       "<Figure size 640x480 with 1 Axes>"
      ]
     },
     "metadata": {},
     "output_type": "display_data"
    }
   ],
   "source": [
    "fig = plt.figure()\n",
    "ax = fig.add_subplot(projection='3d')\n",
    "\n",
    "ax.plot(sol.y[0],sol.y[1], sol.y[2], color='red', label = 'Orbit of LAGEOS')\n",
    "\n",
    "ax.plot(0,0,0, 'o', color='blue', label='Earth')\n",
    "ax.set_box_aspect([1,1,1])\n",
    "ax.set_xlabel('x [m]')\n",
    "ax.set_ylabel('y [m]')\n",
    "ax.set_zlabel('z [m]')\n",
    "ax.legend()\n",
    "plt.tight_layout()\n",
    "plt.show()\n"
   ]
  },
  {
   "cell_type": "code",
   "execution_count": null,
   "metadata": {},
   "outputs": [
    {
     "name": "stdout",
     "output_type": "stream",
     "text": [
      "The expected values are [ 9198201.11108904  3346470.4635819  -7343619.83372384] for position and [ 3760.29086119 -1216.94859687  4128.52516735] for velocity\n",
      "The calculated values are [-3108854.61888849  8701331.54236896 -8137348.31021642] for position and [1314.47568449 4003.04972053 3809.20999045] for velocity\n"
     ]
    }
   ],
   "source": [
    "print(f'The expected values are {x_f} for position and {v_f} for velocity')\n",
    "print(f'The calculated values are {sol.y[0:3, -1]} for position and {sol.y[3:6, -1]} for velocity')\n"
   ]
  },
  {
   "cell_type": "markdown",
   "metadata": {},
   "source": [
    "The integration done in this way predicts that the satellite is not orbiting around the Earth. The reason for this mistake are not clear, as a timestep of 5 s during an orbit with period over 13000 s sould be detailed enough. It may be caused either by the integrator or the formulas, but Im' still investigating it and trying new hypothesis."
   ]
  },
  {
   "cell_type": "markdown",
   "metadata": {},
   "source": [
    "# Obtaining the initial coditions from the osculating elements\n",
    "The position and velocity for Apr 20th 2022 are given by the osculating elements. \n",
    "To obtain position and velocity from those I use the Kepler's equation to obtain $E$ and then compute\n",
    "$$\\mathbf r = a(\\cos E -e)\\mathbf{\\hat P} + a\\sqrt{1-e^2}\\sin E\\mathbf{\\hat Q}$$ \n",
    "$$ \\mathbf{ \\dot r} = -\\frac{na^2}{r}\\sin E \\mathbf{\\hat P} + \\frac{na^2}{r}\\sqrt{1-e^2}\\cos E \\mathbf{\\hat Q}$$\n",
    "$$ r = a(1-e\\cos E) $$ \n",
    "$$\\mu =n^2a^3 $$\n",
    "and then I apply $$ \\mathbf{r}_I =  R_z(-\\Omega)R_x(-i)R_z(\\pi-\\Omega) \\mathbf{r}_L $$ to rotate the vectors from the Lagrange RF to the geocentric"
   ]
  },
  {
   "cell_type": "code",
   "execution_count": null,
   "metadata": {},
   "outputs": [],
   "source": [
    "def Rx(theta, v):\n",
    "  '''Rotation to align to a vector along the x-axis'''\n",
    "  return np.array([v[0], v[1]*np.cos(theta)+v[2]*np.sin(theta), -v[1]*np.sin(theta)+v[2]*np.cos(theta)])\n",
    "\n",
    "def Rz(theta, v):\n",
    "  '''Rotation to align to a vector around the z-axis'''\n",
    "  return np.array([v[0]*np.cos(theta)+v[1]*np.sin(theta), -v[0]*np.sin(theta)+v[1]*np.cos(theta), v[2]])\n",
    "\n",
    "def SolveKeplerEq(M,e, atol=1e-14):\n",
    "  '''Solver of the Kepler's equation'''\n",
    "  # This works only if M is between 0 and 2pi, so I have to rescalate it\n",
    "  k = np.floor(M/(2*np.pi))\n",
    "  M = M-k*2*np.pi           #Subtract all the complete orbits\n",
    "  E = M\n",
    "  Delta = 1e2\n",
    "  while(Delta > atol):\n",
    "    Delta = (E - e*np.sin(E) - M)/(1-e*np.cos(E))\n",
    "    E = E - Delta\n",
    "  return E\n",
    "\n",
    "def Lagrange_coord(a, e, M, mu=GM):\n",
    "  '''position and velocity in the Lagrange RF'''\n",
    "  E = SolveKeplerEq(M,e)\n",
    "  n = (mu*a**-3)**0.5\n",
    "  r = a*(1-e*np.cos(E))\n",
    "\n",
    "  X = np.array([a*(np.cos(E)-e), a*(1-e**2)**0.5*np.sin(E), 0]) \n",
    "  V = np.array([-n*a**2/r*np.sin(E), n*a*2/r*(1-e**2)**0.5*np.cos(E), 0])\n",
    "  return X,V\n",
    "\n",
    "def Inertial_coord(a, e, M, i, Omega, omega, mu=GM):\n",
    "  X, V = Lagrange_coord(a, e, M, mu)\n",
    "  x_i = Rz(-Omega, Rx( -i, Rz( omega, X )))\n",
    "  v_i = Rz(-Omega, Rx( -i, Rz( omega, V )))\n",
    "  return np.concatenate((x_i, v_i), axis=None)\n"
   ]
  },
  {
   "cell_type": "markdown",
   "metadata": {},
   "source": [
    "I tested this on the LAGEOS initial conditions for Jan 1st 2020, for which I have both the cartesian and the osculating element representation. The positions seems to match but with inverted sign, while the velocities don't. I can't find a reason for this as the software is the same that has benn used in the Ephemeris homeowrk withou problems."
   ]
  },
  {
   "cell_type": "code",
   "execution_count": null,
   "metadata": {},
   "outputs": [
    {
     "name": "stdout",
     "output_type": "stream",
     "text": [
      "The expected values are [ -3925648.12725143   4994759.41318484 -10562295.01282353] for position and [ 709.82404965 5180.59677349 2200.47213475] for velocity\n",
      "The calculated values are [ 3916869.73544899 -5058702.16605307 10535087.78430737] for position and [ -804.65661184    -7.27690702 -2214.25401243] for velocity\n"
     ]
    }
   ],
   "source": [
    "a = 12266910.678102\n",
    "e = 0.005259278879\n",
    "i = np.deg2rad(109.9711850720)\n",
    "Omega = np.deg2rad(90.9947168025)\n",
    "omega = np.deg2rad(89.8372025635)\n",
    "M = np.deg2rad(204.6617560531)\n",
    "\n",
    "X = Inertial_coord(a,e,M,i,Omega,omega)\n",
    "print(f'The expected values are {x0} for position and {v0} for velocity')\n",
    "print(f'The calculated values are {X[0:3]} for position and {X[3:6]} for velocity')\n"
   ]
  },
  {
   "cell_type": "markdown",
   "metadata": {},
   "source": [
    "### Converting the position in the Inertial RF to local\n",
    "The transformation used is $$ \\mathbf{r}_{Loc}=R_x(\\frac{\\pi}{2}-\\phi)R_z(\\lambda + \\frac{\\pi}{2})R_z(\\theta_{GMST})R\\mathbf{r}_{I} $$ where the matrix R is given by the combination of precession and nutation and the Earth rotation angle"
   ]
  },
  {
   "cell_type": "code",
   "execution_count": null,
   "metadata": {},
   "outputs": [],
   "source": [
    "def inertial2local(x_i, date_initial, delta_date, phi, l, r_e = R_E):\n",
    "  R = erfa.rz(erfa.era00(date_initial, delta_date), erfa.pnm06a(date_initial, delta_date))\n",
    "  x_b = np.dot(R, x_i)\n",
    "  x_loc = Rx(np.pi-phi, Rz(l+np.pi/2, x_b))-r_e\n",
    "  d =  np.linalg.norm(x_loc) # range\n",
    "  Alt = np.rad2deg(np.arcsin(x_loc[2]/d))\n",
    "  Az = np.rad2deg(np.arctan2(x_loc[0], x_loc[1]))\n"
   ]
  },
  {
   "cell_type": "markdown",
   "metadata": {},
   "source": [
    "I have not proceded further as I can't reproduce the expected results at a previous step. I will discuss these problems with the others partecipants of the course and try to fix ot as soon as possible."
   ]
  }
 ],
 "metadata": {
  "kernelspec": {
   "display_name": "Python 3",
   "language": "python",
   "name": "python3"
  },
  "language_info": {
   "codemirror_mode": {
    "name": "ipython",
    "version": 3
   },
   "file_extension": ".py",
   "mimetype": "text/x-python",
   "name": "python",
   "nbconvert_exporter": "python",
   "pygments_lexer": "ipython3",
   "version": "3.10.12"
  }
 },
 "nbformat": 4,
 "nbformat_minor": 2
}
